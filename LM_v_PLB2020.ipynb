{
  "nbformat": 4,
  "nbformat_minor": 0,
  "metadata": {
    "colab": {
      "name": "LM v PLB2020.ipynb",
      "provenance": [],
      "authorship_tag": "ABX9TyNRlLUf0RqnJTLxWifgpU4B",
      "include_colab_link": true
    },
    "kernelspec": {
      "name": "python3",
      "display_name": "Python 3"
    },
    "language_info": {
      "name": "python"
    }
  },
  "cells": [
    {
      "cell_type": "markdown",
      "metadata": {
        "id": "view-in-github",
        "colab_type": "text"
      },
      "source": [
        "<a href=\"https://colab.research.google.com/github/Whateverdoa/PLB_2020/blob/master/LM_v_PLB2020.ipynb\" target=\"_parent\"><img src=\"https://colab.research.google.com/assets/colab-badge.svg\" alt=\"Open In Colab\"/></a>"
      ]
    },
    {
      "cell_type": "code",
      "metadata": {
        "id": "rUiCCW-nM7ED"
      },
      "source": [
        "#@title nummer_generator voor PLB 2020 gen 2\n"
      ],
      "execution_count": 107,
      "outputs": []
    },
    {
      "cell_type": "code",
      "metadata": {
        "cellView": "form",
        "id": "bL45JGTuNaIc"
      },
      "source": [
        "#@title Vul alles in gebruik dan control + F9 of alles uitvoeren en download gegenereerde bestand\n",
        "\n",
        "datum = '2021-05-19'  #@param {type: \"date\"}\n",
        "\n",
        "ordernummer = '2021'  #@param {type: \"string\"}\n",
        "# slider_value = 100  #@param {type: \"slider\", min: 100, max: 200}\n",
        "totaal = 1000  #@param {type: \"number\"}\n",
        "aantal_per_rol =   250#@param {type: \"number\"}\n",
        "banen_mes_x_waarde = 5  #@param {type: \"number\"}\n",
        "y_waarde = 2  #@param {type: \"number\"}\n",
        "#@markdown \n",
        "begin_nummer = 1  #@param {type: \"number\"}\n",
        "\n",
        "posities = 10  #@param {type: \"number\"}\n",
        "prefix ='A' #@param {type: \"string\"}\n",
        "postfix = 'B' #@param {type: \"string\"}\n",
        "formaat_hoogte = 100  #@param {type: \"number\"}\n",
        "formaat_breedte = 100  #@param {type: \"number\"}\n",
        "# pick_me = \"monday\"  #@param ['monday', 'tuesday', 'wednesday', 'thursday']\n",
        "# select_or_input = \"apples\" #@param [\"apples\", \"bananas\", \"oranges\"] {allow-input: true}\n",
        "#@markdown ---\n",
        "slice_links = False #@param {type:\"boolean\"}\n",
        "aantal_posities_uit_links =  7#@param {type: \"number\"}\n",
        "slice_rechts = True #@param {type:\"boolean\"}\n",
        "aantal_posities_uit_rechts = 3 #@param {type: \"number\"}\n",
        "template = False #@param {type:\"boolean\"}\n"
      ],
      "execution_count": 108,
      "outputs": []
    },
    {
      "cell_type": "code",
      "metadata": {
        "id": "IvzpWZCVWrmS"
      },
      "source": [
        "def nummer_lijst_bouwer(begin_nummer,totaal, pdf, posities, mes,vlg=0):\n",
        "    \"\"\"\n",
        "    met lijst output dataframes maken\"\"\"\n",
        "    num_lijst=[]\n",
        "    rest_lijst=[]\n",
        "\n",
        "    def maak_simpele_lijst(begin_nummer,totaal, pdf):\n",
        "        '''list comp voor maken nummer lijst, 3 kolommen \n",
        "        kijk voor benamingen in project lijst bewerken'''\n",
        "        eind = begin_nummer + totaal\n",
        "        nummers = [(f'{x:>{vlg}{posities}}',f'{pdf}','') for x in range(begin_nummer, eind)] \n",
        "        nummers_df = pd.DataFrame(nummers, columns=[\"kolom1\", \"pdf\", \"omschrijving\"], dtype=\"str\")\n",
        "        return nummers\n",
        "    \n",
        "\n",
        "    def rest_rollen_uitrekenen(mes,totaal,aantal_per_rol):\n",
        "        \"\"\"het totaal delen door de aantal per rol  de restwaarde hievan geeft het aantal rollen dat te kort is\"\"\"\n",
        "        if totaal <= mes* aantal_per_rol:\n",
        "        \n",
        "            print(f'aantal rest rollen = {abs((mes* aantal_per_rol - totaal )//aantal_per_rol)} uit if')\n",
        "            return abs((mes* aantal_per_rol - totaal )//aantal_per_rol)\n",
        "        \n",
        "        else:\n",
        "\n",
        "            rest_rollen = mes -(totaal//aantal_per_rol % mes)\n",
        "            print(f'aantal rest rollen = {rest_rollen} uit else')\n",
        "            return rest_rollen\n",
        "\n",
        "\n",
        "    num_lijst = maak_simpele_lijst(begin_nummer,totaal, pdf)\n",
        "\n",
        "\n",
        "    rest = rest_rollen_uitrekenen(mes,totaal,aantal_per_rol)\n",
        "    print(rest)\n",
        "    \n",
        "    rest_lijst = maak_simpele_lijst(1,(rest * aantal_per_rol),\"stans.pdf\")\n",
        "\n",
        "    if rest != 0:\n",
        "        rest_lijst = maak_simpele_lijst(1,(rest * aantal_per_rol),\"stans.pdf\")\n",
        "        # totlijst = pd.concat([num_lijst,rest_lijst])\n",
        "        totlijst = num_lijst + rest_lijst\n",
        "        # print(len(totlijst))\n",
        "        # print(totlijst)\n",
        "        return totlijst\n",
        "\n",
        "\n",
        " \n",
        "    else:\n",
        "        return num_lijst\n"
      ],
      "execution_count": 109,
      "outputs": []
    },
    {
      "cell_type": "code",
      "metadata": {
        "colab": {
          "base_uri": "https://localhost:8080/",
          "height": 238
        },
        "id": "-NocgBg2Z52d",
        "outputId": "613ee919-3479-4156-eae0-f1d48140f39d"
      },
      "source": [
        "eerste_lijst_uit_input = nummer_lijst_bouwer(begin_nummer,totaal,'leeg.pdf',posities,banen_mes_x_waarde,vlg=0)\n",
        "\n",
        "te_bewerken_dataframe_voor_PLB2020 = pd.DataFrame(eerste_lijst_uit_input, columns=[\"Kolom_1\", \"pdf\", \"omschrijving\"], dtype=\"str\")\n",
        "te_bewerken_dataframe_voor_PLB2020.head()"
      ],
      "execution_count": 110,
      "outputs": [
        {
          "output_type": "stream",
          "text": [
            "aantal rest rollen = 1 uit if\n",
            "1\n"
          ],
          "name": "stdout"
        },
        {
          "output_type": "execute_result",
          "data": {
            "text/html": [
              "<div>\n",
              "<style scoped>\n",
              "    .dataframe tbody tr th:only-of-type {\n",
              "        vertical-align: middle;\n",
              "    }\n",
              "\n",
              "    .dataframe tbody tr th {\n",
              "        vertical-align: top;\n",
              "    }\n",
              "\n",
              "    .dataframe thead th {\n",
              "        text-align: right;\n",
              "    }\n",
              "</style>\n",
              "<table border=\"1\" class=\"dataframe\">\n",
              "  <thead>\n",
              "    <tr style=\"text-align: right;\">\n",
              "      <th></th>\n",
              "      <th>Kolom_1</th>\n",
              "      <th>pdf</th>\n",
              "      <th>omschrijving</th>\n",
              "    </tr>\n",
              "  </thead>\n",
              "  <tbody>\n",
              "    <tr>\n",
              "      <th>0</th>\n",
              "      <td>0000000001</td>\n",
              "      <td>leeg.pdf</td>\n",
              "      <td></td>\n",
              "    </tr>\n",
              "    <tr>\n",
              "      <th>1</th>\n",
              "      <td>0000000002</td>\n",
              "      <td>leeg.pdf</td>\n",
              "      <td></td>\n",
              "    </tr>\n",
              "    <tr>\n",
              "      <th>2</th>\n",
              "      <td>0000000003</td>\n",
              "      <td>leeg.pdf</td>\n",
              "      <td></td>\n",
              "    </tr>\n",
              "    <tr>\n",
              "      <th>3</th>\n",
              "      <td>0000000004</td>\n",
              "      <td>leeg.pdf</td>\n",
              "      <td></td>\n",
              "    </tr>\n",
              "    <tr>\n",
              "      <th>4</th>\n",
              "      <td>0000000005</td>\n",
              "      <td>leeg.pdf</td>\n",
              "      <td></td>\n",
              "    </tr>\n",
              "  </tbody>\n",
              "</table>\n",
              "</div>"
            ],
            "text/plain": [
              "      Kolom_1       pdf omschrijving\n",
              "0  0000000001  leeg.pdf             \n",
              "1  0000000002  leeg.pdf             \n",
              "2  0000000003  leeg.pdf             \n",
              "3  0000000004  leeg.pdf             \n",
              "4  0000000005  leeg.pdf             "
            ]
          },
          "metadata": {
            "tags": []
          },
          "execution_count": 110
        }
      ]
    },
    {
      "cell_type": "code",
      "metadata": {
        "colab": {
          "base_uri": "https://localhost:8080/"
        },
        "id": "7gc3Ez0UdNmZ",
        "outputId": "796f5a5c-b7b6-4aef-ed82-fb0dfc1521d6"
      },
      "source": [
        "te_bewerken_dataframe_voor_PLB2020['test_kolom']= \" \"\n",
        "\n",
        "if slice_links == True:\n",
        "    te_bewerken_dataframe_voor_PLB2020['test_kolom'] = te_bewerken_dataframe_voor_PLB2020['Kolom_1'].apply(lambda x: x[:aantal_posities_uit_links])\n",
        "if slice_rechts == True:\n",
        "    te_bewerken_dataframe_voor_PLB2020['test_kolom'] = te_bewerken_dataframe_voor_PLB2020['Kolom_1'].apply(lambda x: x[-aantal_posities_uit_rechts:])\n",
        "\n",
        "\n",
        "print(te_bewerken_dataframe_voor_PLB2020.head())\n",
        "naam_csv = f'{ordernummer}_met_datum_{datum}_inschiet_voor_plb2020.csv'\n",
        "te_bewerken_dataframe_voor_PLB2020.to_csv(naam_csv, index=0)"
      ],
      "execution_count": 113,
      "outputs": [
        {
          "output_type": "stream",
          "text": [
            "      Kolom_1       pdf omschrijving test_kolom\n",
            "0  0000000001  leeg.pdf                     001\n",
            "1  0000000002  leeg.pdf                     002\n",
            "2  0000000003  leeg.pdf                     003\n",
            "3  0000000004  leeg.pdf                     004\n",
            "4  0000000005  leeg.pdf                     005\n"
          ],
          "name": "stdout"
        }
      ]
    },
    {
      "cell_type": "code",
      "metadata": {
        "id": "wOSLYf27iLyv"
      },
      "source": [
        "# template def invoegen\n",
        "# posities en ???? check in template\n",
        "# uitvoeren als csv en excel en naar gsheets\n",
        "\n",
        "# PLB2021 maken met n aantal columns\n",
        "\n"
      ],
      "execution_count": 112,
      "outputs": []
    }
  ]
}